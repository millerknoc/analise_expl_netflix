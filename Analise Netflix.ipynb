{
 "cells": [
  {
   "cell_type": "code",
   "execution_count": 1,
   "id": "09ffc705-327b-43ae-befc-c7ec27fb4040",
   "metadata": {},
   "outputs": [],
   "source": [
    "import pandas as pd\n",
    "import datetime as dt"
   ]
  },
  {
   "cell_type": "code",
   "execution_count": 2,
   "id": "3b45e77c-662a-47c8-aa14-909e5674d03e",
   "metadata": {},
   "outputs": [],
   "source": [
    "base = pd.read_csv('netflix daily top 10.csv')"
   ]
  },
  {
   "cell_type": "code",
   "execution_count": 3,
   "id": "e709a105-bb83-4148-97e3-2f0eae6a06de",
   "metadata": {},
   "outputs": [
    {
     "data": {
      "text/html": [
       "<div>\n",
       "<style scoped>\n",
       "    .dataframe tbody tr th:only-of-type {\n",
       "        vertical-align: middle;\n",
       "    }\n",
       "\n",
       "    .dataframe tbody tr th {\n",
       "        vertical-align: top;\n",
       "    }\n",
       "\n",
       "    .dataframe thead th {\n",
       "        text-align: right;\n",
       "    }\n",
       "</style>\n",
       "<table border=\"1\" class=\"dataframe\">\n",
       "  <thead>\n",
       "    <tr style=\"text-align: right;\">\n",
       "      <th></th>\n",
       "      <th>As of</th>\n",
       "      <th>Rank</th>\n",
       "      <th>Year to Date Rank</th>\n",
       "      <th>Last Week Rank</th>\n",
       "      <th>Title</th>\n",
       "      <th>Type</th>\n",
       "      <th>Netflix Exclusive</th>\n",
       "      <th>Netflix Release Date</th>\n",
       "      <th>Days In Top 10</th>\n",
       "      <th>Viewership Score</th>\n",
       "    </tr>\n",
       "  </thead>\n",
       "  <tbody>\n",
       "    <tr>\n",
       "      <th>0</th>\n",
       "      <td>2020-04-01</td>\n",
       "      <td>1</td>\n",
       "      <td>1</td>\n",
       "      <td>1</td>\n",
       "      <td>Tiger King: Murder, Mayhem …</td>\n",
       "      <td>TV Show</td>\n",
       "      <td>Yes</td>\n",
       "      <td>Mar 20, 2020</td>\n",
       "      <td>9</td>\n",
       "      <td>90</td>\n",
       "    </tr>\n",
       "    <tr>\n",
       "      <th>1</th>\n",
       "      <td>2020-04-01</td>\n",
       "      <td>2</td>\n",
       "      <td>2</td>\n",
       "      <td>-</td>\n",
       "      <td>Ozark</td>\n",
       "      <td>TV Show</td>\n",
       "      <td>Yes</td>\n",
       "      <td>Jul 21, 2017</td>\n",
       "      <td>5</td>\n",
       "      <td>45</td>\n",
       "    </tr>\n",
       "    <tr>\n",
       "      <th>2</th>\n",
       "      <td>2020-04-01</td>\n",
       "      <td>3</td>\n",
       "      <td>3</td>\n",
       "      <td>2</td>\n",
       "      <td>All American</td>\n",
       "      <td>TV Show</td>\n",
       "      <td>NaN</td>\n",
       "      <td>Mar 28, 2019</td>\n",
       "      <td>9</td>\n",
       "      <td>76</td>\n",
       "    </tr>\n",
       "    <tr>\n",
       "      <th>3</th>\n",
       "      <td>2020-04-01</td>\n",
       "      <td>4</td>\n",
       "      <td>4</td>\n",
       "      <td>-</td>\n",
       "      <td>Blood Father</td>\n",
       "      <td>Movie</td>\n",
       "      <td>NaN</td>\n",
       "      <td>Mar 26, 2020</td>\n",
       "      <td>5</td>\n",
       "      <td>30</td>\n",
       "    </tr>\n",
       "    <tr>\n",
       "      <th>4</th>\n",
       "      <td>2020-04-01</td>\n",
       "      <td>5</td>\n",
       "      <td>5</td>\n",
       "      <td>4</td>\n",
       "      <td>The Platform</td>\n",
       "      <td>Movie</td>\n",
       "      <td>Yes</td>\n",
       "      <td>Mar 20, 2020</td>\n",
       "      <td>9</td>\n",
       "      <td>55</td>\n",
       "    </tr>\n",
       "  </tbody>\n",
       "</table>\n",
       "</div>"
      ],
      "text/plain": [
       "        As of  Rank Year to Date Rank Last Week Rank  \\\n",
       "0  2020-04-01     1                 1              1   \n",
       "1  2020-04-01     2                 2              -   \n",
       "2  2020-04-01     3                 3              2   \n",
       "3  2020-04-01     4                 4              -   \n",
       "4  2020-04-01     5                 5              4   \n",
       "\n",
       "                          Title     Type Netflix Exclusive  \\\n",
       "0  Tiger King: Murder, Mayhem …  TV Show               Yes   \n",
       "1                         Ozark  TV Show               Yes   \n",
       "2                  All American  TV Show               NaN   \n",
       "3                  Blood Father    Movie               NaN   \n",
       "4                  The Platform    Movie               Yes   \n",
       "\n",
       "  Netflix Release Date  Days In Top 10  Viewership Score  \n",
       "0         Mar 20, 2020               9                90  \n",
       "1         Jul 21, 2017               5                45  \n",
       "2         Mar 28, 2019               9                76  \n",
       "3         Mar 26, 2020               5                30  \n",
       "4         Mar 20, 2020               9                55  "
      ]
     },
     "execution_count": 3,
     "metadata": {},
     "output_type": "execute_result"
    }
   ],
   "source": [
    "# Visualizando o arquivo \n",
    "base.head()"
   ]
  },
  {
   "cell_type": "code",
   "execution_count": 4,
   "id": "bd18b1f6-21d1-4310-a438-9b3819f64d5d",
   "metadata": {},
   "outputs": [
    {
     "data": {
      "text/html": [
       "<div>\n",
       "<style scoped>\n",
       "    .dataframe tbody tr th:only-of-type {\n",
       "        vertical-align: middle;\n",
       "    }\n",
       "\n",
       "    .dataframe tbody tr th {\n",
       "        vertical-align: top;\n",
       "    }\n",
       "\n",
       "    .dataframe thead th {\n",
       "        text-align: right;\n",
       "    }\n",
       "</style>\n",
       "<table border=\"1\" class=\"dataframe\">\n",
       "  <thead>\n",
       "    <tr style=\"text-align: right;\">\n",
       "      <th></th>\n",
       "      <th>As of</th>\n",
       "      <th>Rank</th>\n",
       "      <th>Year to Date Rank</th>\n",
       "      <th>Last Week Rank</th>\n",
       "      <th>Title</th>\n",
       "      <th>Type</th>\n",
       "      <th>Netflix Exclusive</th>\n",
       "      <th>Netflix Release Date</th>\n",
       "      <th>Days In Top 10</th>\n",
       "      <th>Viewership Score</th>\n",
       "    </tr>\n",
       "  </thead>\n",
       "  <tbody>\n",
       "    <tr>\n",
       "      <th>7095</th>\n",
       "      <td>2022-03-11</td>\n",
       "      <td>6</td>\n",
       "      <td>5</td>\n",
       "      <td>1</td>\n",
       "      <td>Worst Roommate Ever</td>\n",
       "      <td>TV Show</td>\n",
       "      <td>Yes</td>\n",
       "      <td>Mar 1, 2022</td>\n",
       "      <td>10</td>\n",
       "      <td>81</td>\n",
       "    </tr>\n",
       "    <tr>\n",
       "      <th>7096</th>\n",
       "      <td>2022-03-11</td>\n",
       "      <td>7</td>\n",
       "      <td>7</td>\n",
       "      <td>2</td>\n",
       "      <td>Vikings: Valhalla</td>\n",
       "      <td>TV Show</td>\n",
       "      <td>Yes</td>\n",
       "      <td>Feb 25, 2022</td>\n",
       "      <td>14</td>\n",
       "      <td>100</td>\n",
       "    </tr>\n",
       "    <tr>\n",
       "      <th>7097</th>\n",
       "      <td>2022-03-11</td>\n",
       "      <td>8</td>\n",
       "      <td>8</td>\n",
       "      <td>-</td>\n",
       "      <td>Shooter</td>\n",
       "      <td>Movie</td>\n",
       "      <td>NaN</td>\n",
       "      <td>Aug 1, 2014</td>\n",
       "      <td>3</td>\n",
       "      <td>7</td>\n",
       "    </tr>\n",
       "    <tr>\n",
       "      <th>7098</th>\n",
       "      <td>2022-03-11</td>\n",
       "      <td>9</td>\n",
       "      <td>9</td>\n",
       "      <td>7</td>\n",
       "      <td>Shrek 2</td>\n",
       "      <td>Movie</td>\n",
       "      <td>NaN</td>\n",
       "      <td>Mar 1, 2022</td>\n",
       "      <td>10</td>\n",
       "      <td>33</td>\n",
       "    </tr>\n",
       "    <tr>\n",
       "      <th>7099</th>\n",
       "      <td>2022-03-11</td>\n",
       "      <td>10</td>\n",
       "      <td>10</td>\n",
       "      <td>-</td>\n",
       "      <td>Shrek</td>\n",
       "      <td>Movie</td>\n",
       "      <td>NaN</td>\n",
       "      <td>May 1, 2018</td>\n",
       "      <td>7</td>\n",
       "      <td>12</td>\n",
       "    </tr>\n",
       "  </tbody>\n",
       "</table>\n",
       "</div>"
      ],
      "text/plain": [
       "           As of  Rank Year to Date Rank Last Week Rank                Title  \\\n",
       "7095  2022-03-11     6                 5              1  Worst Roommate Ever   \n",
       "7096  2022-03-11     7                 7              2    Vikings: Valhalla   \n",
       "7097  2022-03-11     8                 8              -              Shooter   \n",
       "7098  2022-03-11     9                 9              7              Shrek 2   \n",
       "7099  2022-03-11    10                10              -                Shrek   \n",
       "\n",
       "         Type Netflix Exclusive Netflix Release Date  Days In Top 10  \\\n",
       "7095  TV Show               Yes          Mar 1, 2022              10   \n",
       "7096  TV Show               Yes         Feb 25, 2022              14   \n",
       "7097    Movie               NaN          Aug 1, 2014               3   \n",
       "7098    Movie               NaN          Mar 1, 2022              10   \n",
       "7099    Movie               NaN          May 1, 2018               7   \n",
       "\n",
       "      Viewership Score  \n",
       "7095                81  \n",
       "7096               100  \n",
       "7097                 7  \n",
       "7098                33  \n",
       "7099                12  "
      ]
     },
     "execution_count": 4,
     "metadata": {},
     "output_type": "execute_result"
    }
   ],
   "source": [
    "base.tail()"
   ]
  },
  {
   "cell_type": "code",
   "execution_count": 5,
   "id": "3a638c63-fe90-4d89-bf35-d086adf0d411",
   "metadata": {},
   "outputs": [
    {
     "data": {
      "text/plain": [
       "(7100, 10)"
      ]
     },
     "execution_count": 5,
     "metadata": {},
     "output_type": "execute_result"
    }
   ],
   "source": [
    "#Verificando o tamanho da nossa base de dados\n",
    "\n",
    "base.shape"
   ]
  },
  {
   "cell_type": "code",
   "execution_count": 8,
   "id": "7de23886-079b-4f8c-827d-99e948cabe24",
   "metadata": {},
   "outputs": [
    {
     "name": "stdout",
     "output_type": "stream",
     "text": [
      "2020-04-01\n"
     ]
    }
   ],
   "source": [
    "# Verificando o Período da Análise\n",
    "\n",
    "inicio = pd.to_datetime(base['As of']).dt.date.min()\n",
    "print(inicio)"
   ]
  },
  {
   "cell_type": "code",
   "execution_count": 10,
   "id": "32ef2115-c0d8-43ae-8bd2-6e67e3203117",
   "metadata": {},
   "outputs": [
    {
     "name": "stdout",
     "output_type": "stream",
     "text": [
      "2022-03-11\n"
     ]
    }
   ],
   "source": [
    "fim = pd.to_datetime(base['As of']).dt.date.max()\n",
    "print(fim)"
   ]
  },
  {
   "cell_type": "code",
   "execution_count": 11,
   "id": "0107449c-ec98-40b0-8d23-1be40f916807",
   "metadata": {},
   "outputs": [
    {
     "name": "stdout",
     "output_type": "stream",
     "text": [
      "<class 'pandas.core.frame.DataFrame'>\n",
      "RangeIndex: 7100 entries, 0 to 7099\n",
      "Data columns (total 10 columns):\n",
      " #   Column                Non-Null Count  Dtype \n",
      "---  ------                --------------  ----- \n",
      " 0   As of                 7100 non-null   object\n",
      " 1   Rank                  7100 non-null   int64 \n",
      " 2   Year to Date Rank     7100 non-null   object\n",
      " 3   Last Week Rank        7100 non-null   object\n",
      " 4   Title                 7100 non-null   object\n",
      " 5   Type                  7100 non-null   object\n",
      " 6   Netflix Exclusive     4599 non-null   object\n",
      " 7   Netflix Release Date  7100 non-null   object\n",
      " 8   Days In Top 10        7100 non-null   int64 \n",
      " 9   Viewership Score      7100 non-null   int64 \n",
      "dtypes: int64(3), object(7)\n",
      "memory usage: 554.8+ KB\n"
     ]
    }
   ],
   "source": [
    "# Verificando valores nulos da nossa base\n",
    "\n",
    "base.info()"
   ]
  },
  {
   "cell_type": "code",
   "execution_count": 12,
   "id": "29321db7-0cb4-4a40-a5ba-28791e1d4c86",
   "metadata": {},
   "outputs": [
    {
     "data": {
      "text/plain": [
       "As of                      0\n",
       "Rank                       0\n",
       "Year to Date Rank          0\n",
       "Last Week Rank             0\n",
       "Title                      0\n",
       "Type                       0\n",
       "Netflix Exclusive       2501\n",
       "Netflix Release Date       0\n",
       "Days In Top 10             0\n",
       "Viewership Score           0\n",
       "dtype: int64"
      ]
     },
     "execution_count": 12,
     "metadata": {},
     "output_type": "execute_result"
    }
   ],
   "source": [
    "# Verificando valores nulos\n",
    "base.isnull().sum()"
   ]
  },
  {
   "cell_type": "code",
   "execution_count": 13,
   "id": "70a677a4-b222-4df9-bd53-330891160b34",
   "metadata": {},
   "outputs": [
    {
     "data": {
      "text/plain": [
       "Yes    4599\n",
       "Name: Netflix Exclusive, dtype: int64"
      ]
     },
     "execution_count": 13,
     "metadata": {},
     "output_type": "execute_result"
    }
   ],
   "source": [
    "# Destrinchando os valores  nulos\n",
    "\n",
    "base['Netflix Exclusive'].value_counts()\n"
   ]
  },
  {
   "cell_type": "code",
   "execution_count": 14,
   "id": "74fd59e4-5611-4be0-afb5-eb145b6f9ab9",
   "metadata": {},
   "outputs": [
    {
     "data": {
      "text/html": [
       "<div>\n",
       "<style scoped>\n",
       "    .dataframe tbody tr th:only-of-type {\n",
       "        vertical-align: middle;\n",
       "    }\n",
       "\n",
       "    .dataframe tbody tr th {\n",
       "        vertical-align: top;\n",
       "    }\n",
       "\n",
       "    .dataframe thead th {\n",
       "        text-align: right;\n",
       "    }\n",
       "</style>\n",
       "<table border=\"1\" class=\"dataframe\">\n",
       "  <thead>\n",
       "    <tr style=\"text-align: right;\">\n",
       "      <th></th>\n",
       "      <th>Rank</th>\n",
       "      <th>Days In Top 10</th>\n",
       "      <th>Viewership Score</th>\n",
       "    </tr>\n",
       "  </thead>\n",
       "  <tbody>\n",
       "    <tr>\n",
       "      <th>count</th>\n",
       "      <td>7100.000000</td>\n",
       "      <td>7100.000000</td>\n",
       "      <td>7100.000000</td>\n",
       "    </tr>\n",
       "    <tr>\n",
       "      <th>mean</th>\n",
       "      <td>5.500000</td>\n",
       "      <td>24.123662</td>\n",
       "      <td>122.790141</td>\n",
       "    </tr>\n",
       "    <tr>\n",
       "      <th>std</th>\n",
       "      <td>2.872484</td>\n",
       "      <td>58.473789</td>\n",
       "      <td>213.861642</td>\n",
       "    </tr>\n",
       "    <tr>\n",
       "      <th>min</th>\n",
       "      <td>1.000000</td>\n",
       "      <td>1.000000</td>\n",
       "      <td>1.000000</td>\n",
       "    </tr>\n",
       "    <tr>\n",
       "      <th>25%</th>\n",
       "      <td>3.000000</td>\n",
       "      <td>3.000000</td>\n",
       "      <td>19.000000</td>\n",
       "    </tr>\n",
       "    <tr>\n",
       "      <th>50%</th>\n",
       "      <td>5.500000</td>\n",
       "      <td>7.000000</td>\n",
       "      <td>50.000000</td>\n",
       "    </tr>\n",
       "    <tr>\n",
       "      <th>75%</th>\n",
       "      <td>8.000000</td>\n",
       "      <td>18.000000</td>\n",
       "      <td>128.000000</td>\n",
       "    </tr>\n",
       "    <tr>\n",
       "      <th>max</th>\n",
       "      <td>10.000000</td>\n",
       "      <td>428.000000</td>\n",
       "      <td>1474.000000</td>\n",
       "    </tr>\n",
       "  </tbody>\n",
       "</table>\n",
       "</div>"
      ],
      "text/plain": [
       "              Rank  Days In Top 10  Viewership Score\n",
       "count  7100.000000     7100.000000       7100.000000\n",
       "mean      5.500000       24.123662        122.790141\n",
       "std       2.872484       58.473789        213.861642\n",
       "min       1.000000        1.000000          1.000000\n",
       "25%       3.000000        3.000000         19.000000\n",
       "50%       5.500000        7.000000         50.000000\n",
       "75%       8.000000       18.000000        128.000000\n",
       "max      10.000000      428.000000       1474.000000"
      ]
     },
     "execution_count": 14,
     "metadata": {},
     "output_type": "execute_result"
    }
   ],
   "source": [
    "# Análise Estatística\n",
    "base.describe()"
   ]
  },
  {
   "cell_type": "code",
   "execution_count": 16,
   "id": "b0b9cb1a-b43b-4a04-bcda-ad3b1062a3ea",
   "metadata": {},
   "outputs": [
    {
     "data": {
      "image/png": "[encoded data removed]",
      "text/plain": [
       "<Figure size 720x432 with 3 Axes>"
      ]
     },
     "metadata": {
      "needs_background": "light"
     },
     "output_type": "display_data"
    }
   ],
   "source": [
    "# Utilizei um boxplot simples para verificar se existem 'outliers'\n",
    "\n",
    "base.plot(kind='box', figsize=(10,6),subplots=True);"
   ]
  },
  {
   "cell_type": "code",
   "execution_count": 18,
   "id": "bccd1fdb-355d-4d6b-ac88-143476b063d8",
   "metadata": {},
   "outputs": [
    {
     "data": {
      "text/html": [
       "<div>\n",
       "<style scoped>\n",
       "    .dataframe tbody tr th:only-of-type {\n",
       "        vertical-align: middle;\n",
       "    }\n",
       "\n",
       "    .dataframe tbody tr th {\n",
       "        vertical-align: top;\n",
       "    }\n",
       "\n",
       "    .dataframe thead th {\n",
       "        text-align: right;\n",
       "    }\n",
       "</style>\n",
       "<table border=\"1\" class=\"dataframe\">\n",
       "  <thead>\n",
       "    <tr style=\"text-align: right;\">\n",
       "      <th></th>\n",
       "      <th>As of</th>\n",
       "      <th>Rank</th>\n",
       "      <th>Year to Date Rank</th>\n",
       "      <th>Last Week Rank</th>\n",
       "      <th>Title</th>\n",
       "      <th>Type</th>\n",
       "      <th>Netflix Exclusive</th>\n",
       "      <th>Netflix Release Date</th>\n",
       "      <th>Days In Top 10</th>\n",
       "      <th>Viewership Score</th>\n",
       "    </tr>\n",
       "  </thead>\n",
       "  <tbody>\n",
       "    <tr>\n",
       "      <th>2886</th>\n",
       "      <td>2021-01-14</td>\n",
       "      <td>7</td>\n",
       "      <td>6</td>\n",
       "      <td>8</td>\n",
       "      <td>Cocomelon</td>\n",
       "      <td>TV Show</td>\n",
       "      <td>NaN</td>\n",
       "      <td>Jun 1, 2020</td>\n",
       "      <td>100</td>\n",
       "      <td>287</td>\n",
       "    </tr>\n",
       "    <tr>\n",
       "      <th>2896</th>\n",
       "      <td>2021-01-15</td>\n",
       "      <td>7</td>\n",
       "      <td>7</td>\n",
       "      <td>10</td>\n",
       "      <td>Cocomelon</td>\n",
       "      <td>TV Show</td>\n",
       "      <td>NaN</td>\n",
       "      <td>Jun 1, 2020</td>\n",
       "      <td>101</td>\n",
       "      <td>291</td>\n",
       "    </tr>\n",
       "    <tr>\n",
       "      <th>2909</th>\n",
       "      <td>2021-01-16</td>\n",
       "      <td>10</td>\n",
       "      <td>7</td>\n",
       "      <td>9</td>\n",
       "      <td>Cocomelon</td>\n",
       "      <td>TV Show</td>\n",
       "      <td>NaN</td>\n",
       "      <td>Jun 1, 2020</td>\n",
       "      <td>102</td>\n",
       "      <td>292</td>\n",
       "    </tr>\n",
       "    <tr>\n",
       "      <th>2919</th>\n",
       "      <td>2021-01-17</td>\n",
       "      <td>10</td>\n",
       "      <td>10</td>\n",
       "      <td>9</td>\n",
       "      <td>Cocomelon</td>\n",
       "      <td>TV Show</td>\n",
       "      <td>NaN</td>\n",
       "      <td>Jun 1, 2020</td>\n",
       "      <td>103</td>\n",
       "      <td>293</td>\n",
       "    </tr>\n",
       "    <tr>\n",
       "      <th>3019</th>\n",
       "      <td>2021-01-27</td>\n",
       "      <td>10</td>\n",
       "      <td>-</td>\n",
       "      <td>-</td>\n",
       "      <td>Cocomelon</td>\n",
       "      <td>TV Show</td>\n",
       "      <td>NaN</td>\n",
       "      <td>Jun 1, 2020</td>\n",
       "      <td>104</td>\n",
       "      <td>294</td>\n",
       "    </tr>\n",
       "    <tr>\n",
       "      <th>...</th>\n",
       "      <td>...</td>\n",
       "      <td>...</td>\n",
       "      <td>...</td>\n",
       "      <td>...</td>\n",
       "      <td>...</td>\n",
       "      <td>...</td>\n",
       "      <td>...</td>\n",
       "      <td>...</td>\n",
       "      <td>...</td>\n",
       "      <td>...</td>\n",
       "    </tr>\n",
       "    <tr>\n",
       "      <th>6674</th>\n",
       "      <td>2022-01-28</td>\n",
       "      <td>5</td>\n",
       "      <td>6</td>\n",
       "      <td>-</td>\n",
       "      <td>Cocomelon</td>\n",
       "      <td>TV Show</td>\n",
       "      <td>NaN</td>\n",
       "      <td>Jun 1, 2020</td>\n",
       "      <td>424</td>\n",
       "      <td>1466</td>\n",
       "    </tr>\n",
       "    <tr>\n",
       "      <th>6687</th>\n",
       "      <td>2022-01-29</td>\n",
       "      <td>8</td>\n",
       "      <td>5</td>\n",
       "      <td>8</td>\n",
       "      <td>Cocomelon</td>\n",
       "      <td>TV Show</td>\n",
       "      <td>NaN</td>\n",
       "      <td>Jun 1, 2020</td>\n",
       "      <td>425</td>\n",
       "      <td>1469</td>\n",
       "    </tr>\n",
       "    <tr>\n",
       "      <th>6718</th>\n",
       "      <td>2022-02-01</td>\n",
       "      <td>9</td>\n",
       "      <td>-</td>\n",
       "      <td>7</td>\n",
       "      <td>Cocomelon</td>\n",
       "      <td>TV Show</td>\n",
       "      <td>NaN</td>\n",
       "      <td>Jun 1, 2020</td>\n",
       "      <td>426</td>\n",
       "      <td>1471</td>\n",
       "    </tr>\n",
       "    <tr>\n",
       "      <th>6959</th>\n",
       "      <td>2022-02-25</td>\n",
       "      <td>10</td>\n",
       "      <td>-</td>\n",
       "      <td>-</td>\n",
       "      <td>Cocomelon</td>\n",
       "      <td>TV Show</td>\n",
       "      <td>NaN</td>\n",
       "      <td>Jun 1, 2020</td>\n",
       "      <td>427</td>\n",
       "      <td>1472</td>\n",
       "    </tr>\n",
       "    <tr>\n",
       "      <th>6998</th>\n",
       "      <td>2022-03-01</td>\n",
       "      <td>9</td>\n",
       "      <td>-</td>\n",
       "      <td>-</td>\n",
       "      <td>Cocomelon</td>\n",
       "      <td>TV Show</td>\n",
       "      <td>NaN</td>\n",
       "      <td>Jun 1, 2020</td>\n",
       "      <td>428</td>\n",
       "      <td>1474</td>\n",
       "    </tr>\n",
       "  </tbody>\n",
       "</table>\n",
       "<p>329 rows × 10 columns</p>\n",
       "</div>"
      ],
      "text/plain": [
       "           As of  Rank Year to Date Rank Last Week Rank      Title     Type  \\\n",
       "2886  2021-01-14     7                 6              8  Cocomelon  TV Show   \n",
       "2896  2021-01-15     7                 7             10  Cocomelon  TV Show   \n",
       "2909  2021-01-16    10                 7              9  Cocomelon  TV Show   \n",
       "2919  2021-01-17    10                10              9  Cocomelon  TV Show   \n",
       "3019  2021-01-27    10                 -              -  Cocomelon  TV Show   \n",
       "...          ...   ...               ...            ...        ...      ...   \n",
       "6674  2022-01-28     5                 6              -  Cocomelon  TV Show   \n",
       "6687  2022-01-29     8                 5              8  Cocomelon  TV Show   \n",
       "6718  2022-02-01     9                 -              7  Cocomelon  TV Show   \n",
       "6959  2022-02-25    10                 -              -  Cocomelon  TV Show   \n",
       "6998  2022-03-01     9                 -              -  Cocomelon  TV Show   \n",
       "\n",
       "     Netflix Exclusive Netflix Release Date  Days In Top 10  Viewership Score  \n",
       "2886               NaN          Jun 1, 2020             100               287  \n",
       "2896               NaN          Jun 1, 2020             101               291  \n",
       "2909               NaN          Jun 1, 2020             102               292  \n",
       "2919               NaN          Jun 1, 2020             103               293  \n",
       "3019               NaN          Jun 1, 2020             104               294  \n",
       "...                ...                  ...             ...               ...  \n",
       "6674               NaN          Jun 1, 2020             424              1466  \n",
       "6687               NaN          Jun 1, 2020             425              1469  \n",
       "6718               NaN          Jun 1, 2020             426              1471  \n",
       "6959               NaN          Jun 1, 2020             427              1472  \n",
       "6998               NaN          Jun 1, 2020             428              1474  \n",
       "\n",
       "[329 rows x 10 columns]"
      ]
     },
     "execution_count": 18,
     "metadata": {},
     "output_type": "execute_result"
    }
   ],
   "source": [
    "base[base['Days In Top 10'] >=100]"
   ]
  },
  {
   "cell_type": "code",
   "execution_count": 20,
   "id": "ca7ab772-775e-4c7e-934b-db78296d3800",
   "metadata": {},
   "outputs": [],
   "source": [
    "base_excel = base[base['Days In Top 10'] >=100]\n",
    "base_excel.to_excel('netflix_top10.xlsx')"
   ]
  },
  {
   "cell_type": "code",
   "execution_count": 21,
   "id": "52ec5bd0-f5f8-4d2e-b6ea-7679309e1322",
   "metadata": {},
   "outputs": [
    {
     "data": {
      "text/plain": [
       "Cocomelon               428\n",
       "Ozark                    85\n",
       "Cobra Kai                81\n",
       "Manifest                 80\n",
       "The Queenâs Gambit     73\n",
       "                       ... \n",
       "Space Sweepers            1\n",
       "The Office                1\n",
       "Uncorked                  1\n",
       "Salt                      1\n",
       "Fistful of Vengeance      1\n",
       "Name: Title, Length: 645, dtype: int64"
      ]
     },
     "execution_count": 21,
     "metadata": {},
     "output_type": "execute_result"
    }
   ],
   "source": [
    "# Entendendo melhor as informações 'Cocomelon'\n",
    "\n",
    "base.Title.value_counts()"
   ]
  },
  {
   "cell_type": "code",
   "execution_count": 22,
   "id": "70a4ca62-1c99-41f8-bb1c-37956f972e82",
   "metadata": {},
   "outputs": [
    {
     "data": {
      "image/png": "[encoded data removed]",
      "text/plain": [
       "<Figure size 432x288 with 1 Axes>"
      ]
     },
     "metadata": {
      "needs_background": "light"
     },
     "output_type": "display_data"
    }
   ],
   "source": [
    "# Criando plots para uma melhor análise dos números\n",
    "\n",
    "base.Type.value_counts().plot(kind='bar');"
   ]
  },
  {
   "cell_type": "code",
   "execution_count": 23,
   "id": "1c35f571-569c-4c81-8bf5-b7bc90691964",
   "metadata": {},
   "outputs": [
    {
     "data": {
      "image/png": "[encoded data removed]",
      "text/plain": [
       "<Figure size 432x288 with 1 Axes>"
      ]
     },
     "metadata": {
      "needs_background": "light"
     },
     "output_type": "display_data"
    }
   ],
   "source": [
    "base['Viewership Score'].hist();"
   ]
  },
  {
   "cell_type": "code",
   "execution_count": 25,
   "id": "a1d84b33-a0f9-464c-8230-0be97d362859",
   "metadata": {},
   "outputs": [
    {
     "data": {
      "text/html": [
       "<div>\n",
       "<style scoped>\n",
       "    .dataframe tbody tr th:only-of-type {\n",
       "        vertical-align: middle;\n",
       "    }\n",
       "\n",
       "    .dataframe tbody tr th {\n",
       "        vertical-align: top;\n",
       "    }\n",
       "\n",
       "    .dataframe thead th {\n",
       "        text-align: right;\n",
       "    }\n",
       "</style>\n",
       "<table border=\"1\" class=\"dataframe\">\n",
       "  <thead>\n",
       "    <tr style=\"text-align: right;\">\n",
       "      <th></th>\n",
       "      <th>As of</th>\n",
       "      <th>Rank</th>\n",
       "      <th>Year to Date Rank</th>\n",
       "      <th>Last Week Rank</th>\n",
       "      <th>Title</th>\n",
       "      <th>Type</th>\n",
       "      <th>Netflix Exclusive</th>\n",
       "      <th>Netflix Release Date</th>\n",
       "      <th>Days In Top 10</th>\n",
       "      <th>Viewership Score</th>\n",
       "    </tr>\n",
       "  </thead>\n",
       "  <tbody>\n",
       "    <tr>\n",
       "      <th>6998</th>\n",
       "      <td>2022-03-01</td>\n",
       "      <td>9</td>\n",
       "      <td>-</td>\n",
       "      <td>-</td>\n",
       "      <td>Cocomelon</td>\n",
       "      <td>TV Show</td>\n",
       "      <td>NaN</td>\n",
       "      <td>Jun 1, 2020</td>\n",
       "      <td>428</td>\n",
       "      <td>1474</td>\n",
       "    </tr>\n",
       "  </tbody>\n",
       "</table>\n",
       "</div>"
      ],
      "text/plain": [
       "           As of  Rank Year to Date Rank Last Week Rank      Title     Type  \\\n",
       "6998  2022-03-01     9                 -              -  Cocomelon  TV Show   \n",
       "\n",
       "     Netflix Exclusive Netflix Release Date  Days In Top 10  Viewership Score  \n",
       "6998               NaN          Jun 1, 2020             428              1474  "
      ]
     },
     "execution_count": 25,
     "metadata": {},
     "output_type": "execute_result"
    }
   ],
   "source": [
    "# Identifique que o 'Viewership Score' é a pontuação dária que os filmes/séries recebem por dia no TOP 10 de visualização\n",
    "\n",
    "base[base['Viewership Score'] == base['Viewership Score'].max()]"
   ]
  },
  {
   "cell_type": "code",
   "execution_count": null,
   "id": "4dda3052-1a88-4d7d-8f06-fb1a78750e92",
   "metadata": {},
   "outputs": [],
   "source": []
  }
 ],
 "metadata": {
  "kernelspec": {
   "display_name": "Python 3",
   "language": "python",
   "name": "python3"
  },
  "language_info": {
   "codemirror_mode": {
    "name": "ipython",
    "version": 3
   },
   "file_extension": ".py",
   "mimetype": "text/x-python",
   "name": "python",
   "nbconvert_exporter": "python",
   "pygments_lexer": "ipython3",
   "version": "3.8.8"
  }
 },
 "nbformat": 4,
 "nbformat_minor": 5
}
